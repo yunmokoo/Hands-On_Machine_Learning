{
  "nbformat": 4,
  "nbformat_minor": 0,
  "metadata": {
    "colab": {
      "provenance": [],
      "authorship_tag": "ABX9TyMifeSUjBY6JUC7naIOeeRN",
      "include_colab_link": true
    },
    "kernelspec": {
      "name": "python3",
      "display_name": "Python 3"
    },
    "language_info": {
      "name": "python"
    }
  },
  "cells": [
    {
      "cell_type": "markdown",
      "metadata": {
        "id": "view-in-github",
        "colab_type": "text"
      },
      "source": [
        "<a href=\"https://colab.research.google.com/github/yunmokoo/Hands-On_Machine_Learning/blob/main/Copy_of_Ch2.ipynb\" target=\"_parent\"><img src=\"https://colab.research.google.com/assets/colab-badge.svg\" alt=\"Open In Colab\"/></a>"
      ]
    },
    {
      "cell_type": "markdown",
      "source": [
        "Housing Example."
      ],
      "metadata": {
        "id": "OkYdyl5eqUcz"
      }
    },
    {
      "cell_type": "markdown",
      "source": [
        "#Requirements.\n",
        "\n",
        "Python >3.7\n",
        "\n",
        "Scikit-Learn ≥ 1.0.1"
      ],
      "metadata": {
        "id": "cU5aJlChyVhy"
      }
    },
    {
      "cell_type": "code",
      "source": [
        "#Python\n",
        "import sys\n",
        "assert sys.version_info >= (3, 7)\n",
        "\n",
        "#Scikit-Learn\n",
        "from packaging import version\n",
        "import sklearn\n",
        "\n",
        "assert version.parse(sklearn.__version__) >= version.parse(\"1.0.1\")"
      ],
      "metadata": {
        "id": "BZqavlyiyU9l"
      },
      "execution_count": 7,
      "outputs": []
    },
    {
      "cell_type": "code",
      "source": [
        "from pathlib import Path\n",
        "import pandas as pd\n",
        "import tarfile\n",
        "import urllib.request"
      ],
      "metadata": {
        "id": "5x7OdybhrLKy"
      },
      "execution_count": 8,
      "outputs": []
    },
    {
      "cell_type": "markdown",
      "source": [
        "# Downloading the Data.\n",
        "\n",
        "Normally, the dtata would be in relational database or other common data store, and across multiple tables/ documents/ files.\n",
        "\n",
        "*In this project however,*\n",
        "just downloading a single compressed file, ***housing.tgz***, will do it.\n",
        "\n",
        "***housing.tgz*** contains a comma-separated values(CSV) file called, ***housing.csv***, with all the data."
      ],
      "metadata": {
        "id": "VgILYR6AqGcz"
      }
    },
    {
      "cell_type": "code",
      "source": [
        "def load_housing_data():\n",
        "    tarball_path = Path(\"datasets/housing.tgz\")\n",
        "    if not tarball_path.is_file():\n",
        "        Path(\"datasets\").mkdir(parents=True, exist_ok=True)\n",
        "        url = \"https://github.com/ageron/data/raw/main/housing.tgz\"\n",
        "        urllib.request.urlretrieve(url, tarball_path)\n",
        "        with tarfile.open(tarball_path) as housing_tarball:\n",
        "            housing_tarball.extractall(path=\"datasets\")\n",
        "    return pd.read_csv(Path(\"datasets/housing/housing.csv\"))\n",
        "\n",
        "housing = load_housing_data()"
      ],
      "metadata": {
        "id": "DxNt_eFTsNz3"
      },
      "execution_count": 9,
      "outputs": []
    },
    {
      "cell_type": "markdown",
      "source": [
        "When ***load_housing_data()*** is called, it looks for the *datasets/housing.tgz* file.\n",
        "\n"
      ],
      "metadata": {
        "id": "lXKko-VVwxXB"
      }
    }
  ]
}