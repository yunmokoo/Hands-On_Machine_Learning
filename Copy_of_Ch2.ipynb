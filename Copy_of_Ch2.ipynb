{
  "nbformat": 4,
  "nbformat_minor": 0,
  "metadata": {
    "colab": {
      "provenance": [],
      "authorship_tag": "ABX9TyOr1hcis0FGC764+mGJMSPw",
      "include_colab_link": true
    },
    "kernelspec": {
      "name": "python3",
      "display_name": "Python 3"
    },
    "language_info": {
      "name": "python"
    }
  },
  "cells": [
    {
      "cell_type": "markdown",
      "metadata": {
        "id": "view-in-github",
        "colab_type": "text"
      },
      "source": [
        "<a href=\"https://colab.research.google.com/github/yunmokoo/Hands-On_Machine_Learning/blob/main/Copy_of_Ch2.ipynb\" target=\"_parent\"><img src=\"https://colab.research.google.com/assets/colab-badge.svg\" alt=\"Open In Colab\"/></a>"
      ]
    },
    {
      "cell_type": "markdown",
      "source": [
        "Housing Example."
      ],
      "metadata": {
        "id": "OkYdyl5eqUcz"
      }
    },
    {
      "cell_type": "markdown",
      "source": [
        "#Requirements.\n",
        "\n",
        "Python >3.7\n",
        "\n",
        "Scikit-Learn ≥ 1.0.1"
      ],
      "metadata": {
        "id": "cU5aJlChyVhy"
      }
    },
    {
      "cell_type": "code",
      "source": [
        "#Python\n",
        "import sys\n",
        "assert sys.version_info >= (3, 7)\n",
        "\n",
        "#Scikit-Learn\n",
        "from packaging import version\n",
        "import sklearn\n",
        "\n",
        "assert version.parse(sklearn.__version__) >= version.parse(\"1.0.1\")"
      ],
      "metadata": {
        "id": "BZqavlyiyU9l"
      },
      "execution_count": null,
      "outputs": []
    },
    {
      "cell_type": "code",
      "source": [
        "from pathlib import Path\n",
        "import pandas as pd\n",
        "import tarfile\n",
        "import urllib.request"
      ],
      "metadata": {
        "id": "5x7OdybhrLKy"
      },
      "execution_count": null,
      "outputs": []
    },
    {
      "cell_type": "markdown",
      "source": [
        "# Downloading the Data.\n",
        "\n",
        "Normally, the dtata would be in relational database or other common data store, and across multiple tables/ documents/ files.\n",
        "\n",
        "*In this project however,*\n",
        "just downloading a single compressed file, ***housing.tgz***, will do it.\n",
        "\n",
        "***housing.tgz*** contains a comma-separated values(CSV) file called, ***housing.csv***, with all the data."
      ],
      "metadata": {
        "id": "VgILYR6AqGcz"
      }
    },
    {
      "cell_type": "code",
      "source": [
        "def load_housing_data():\n",
        "    tarball_path = Path(\"datasets/housing.tgz\")\n",
        "    if not tarball_path.is_file():\n",
        "        Path(\"datasets\").mkdir(parents=True, exist_ok=True)\n",
        "        url = \"https://github.com/ageron/data/raw/main/housing.tgz\"\n",
        "        urllib.request.urlretrieve(url, tarball_path)\n",
        "        with tarfile.open(tarball_path) as housing_tarball:\n",
        "            housing_tarball.extractall(path=\"datasets\")\n",
        "    return pd.read_csv(Path(\"datasets/housing/housing.csv\"))\n",
        "\n",
        "housing = load_housing_data()"
      ],
      "metadata": {
        "id": "DxNt_eFTsNz3"
      },
      "execution_count": null,
      "outputs": []
    },
    {
      "cell_type": "markdown",
      "source": [
        "When ***load_housing_data()*** is called, it looks for the *datasets/housing.tgz* file.\n",
        "\n"
      ],
      "metadata": {
        "id": "lXKko-VVwxXB"
      }
    },
    {
      "cell_type": "markdown",
      "source": [
        "Using DataFrame's *head()* method, look at top five rows of data."
      ],
      "metadata": {
        "id": "WkGTVRiKG0To"
      }
    },
    {
      "cell_type": "code",
      "source": [
        "housing.head()"
      ],
      "metadata": {
        "id": "jqgZVXgxG9wi",
        "outputId": "d9f2a8b2-e9d8-4fc0-f4ca-f0107862a954",
        "colab": {
          "base_uri": "https://localhost:8080/",
          "height": 206
        }
      },
      "execution_count": null,
      "outputs": [
        {
          "output_type": "execute_result",
          "data": {
            "text/plain": [
              "   longitude  latitude  housing_median_age  total_rooms  total_bedrooms  \\\n",
              "0    -122.23     37.88                41.0        880.0           129.0   \n",
              "1    -122.22     37.86                21.0       7099.0          1106.0   \n",
              "2    -122.24     37.85                52.0       1467.0           190.0   \n",
              "3    -122.25     37.85                52.0       1274.0           235.0   \n",
              "4    -122.25     37.85                52.0       1627.0           280.0   \n",
              "\n",
              "   population  households  median_income  median_house_value ocean_proximity  \n",
              "0       322.0       126.0         8.3252            452600.0        NEAR BAY  \n",
              "1      2401.0      1138.0         8.3014            358500.0        NEAR BAY  \n",
              "2       496.0       177.0         7.2574            352100.0        NEAR BAY  \n",
              "3       558.0       219.0         5.6431            341300.0        NEAR BAY  \n",
              "4       565.0       259.0         3.8462            342200.0        NEAR BAY  "
            ],
            "text/html": [
              "\n",
              "  <div id=\"df-73dc09da-1436-4e7e-a4e5-d646790863a0\">\n",
              "    <div class=\"colab-df-container\">\n",
              "      <div>\n",
              "<style scoped>\n",
              "    .dataframe tbody tr th:only-of-type {\n",
              "        vertical-align: middle;\n",
              "    }\n",
              "\n",
              "    .dataframe tbody tr th {\n",
              "        vertical-align: top;\n",
              "    }\n",
              "\n",
              "    .dataframe thead th {\n",
              "        text-align: right;\n",
              "    }\n",
              "</style>\n",
              "<table border=\"1\" class=\"dataframe\">\n",
              "  <thead>\n",
              "    <tr style=\"text-align: right;\">\n",
              "      <th></th>\n",
              "      <th>longitude</th>\n",
              "      <th>latitude</th>\n",
              "      <th>housing_median_age</th>\n",
              "      <th>total_rooms</th>\n",
              "      <th>total_bedrooms</th>\n",
              "      <th>population</th>\n",
              "      <th>households</th>\n",
              "      <th>median_income</th>\n",
              "      <th>median_house_value</th>\n",
              "      <th>ocean_proximity</th>\n",
              "    </tr>\n",
              "  </thead>\n",
              "  <tbody>\n",
              "    <tr>\n",
              "      <th>0</th>\n",
              "      <td>-122.23</td>\n",
              "      <td>37.88</td>\n",
              "      <td>41.0</td>\n",
              "      <td>880.0</td>\n",
              "      <td>129.0</td>\n",
              "      <td>322.0</td>\n",
              "      <td>126.0</td>\n",
              "      <td>8.3252</td>\n",
              "      <td>452600.0</td>\n",
              "      <td>NEAR BAY</td>\n",
              "    </tr>\n",
              "    <tr>\n",
              "      <th>1</th>\n",
              "      <td>-122.22</td>\n",
              "      <td>37.86</td>\n",
              "      <td>21.0</td>\n",
              "      <td>7099.0</td>\n",
              "      <td>1106.0</td>\n",
              "      <td>2401.0</td>\n",
              "      <td>1138.0</td>\n",
              "      <td>8.3014</td>\n",
              "      <td>358500.0</td>\n",
              "      <td>NEAR BAY</td>\n",
              "    </tr>\n",
              "    <tr>\n",
              "      <th>2</th>\n",
              "      <td>-122.24</td>\n",
              "      <td>37.85</td>\n",
              "      <td>52.0</td>\n",
              "      <td>1467.0</td>\n",
              "      <td>190.0</td>\n",
              "      <td>496.0</td>\n",
              "      <td>177.0</td>\n",
              "      <td>7.2574</td>\n",
              "      <td>352100.0</td>\n",
              "      <td>NEAR BAY</td>\n",
              "    </tr>\n",
              "    <tr>\n",
              "      <th>3</th>\n",
              "      <td>-122.25</td>\n",
              "      <td>37.85</td>\n",
              "      <td>52.0</td>\n",
              "      <td>1274.0</td>\n",
              "      <td>235.0</td>\n",
              "      <td>558.0</td>\n",
              "      <td>219.0</td>\n",
              "      <td>5.6431</td>\n",
              "      <td>341300.0</td>\n",
              "      <td>NEAR BAY</td>\n",
              "    </tr>\n",
              "    <tr>\n",
              "      <th>4</th>\n",
              "      <td>-122.25</td>\n",
              "      <td>37.85</td>\n",
              "      <td>52.0</td>\n",
              "      <td>1627.0</td>\n",
              "      <td>280.0</td>\n",
              "      <td>565.0</td>\n",
              "      <td>259.0</td>\n",
              "      <td>3.8462</td>\n",
              "      <td>342200.0</td>\n",
              "      <td>NEAR BAY</td>\n",
              "    </tr>\n",
              "  </tbody>\n",
              "</table>\n",
              "</div>\n",
              "      <button class=\"colab-df-convert\" onclick=\"convertToInteractive('df-73dc09da-1436-4e7e-a4e5-d646790863a0')\"\n",
              "              title=\"Convert this dataframe to an interactive table.\"\n",
              "              style=\"display:none;\">\n",
              "        \n",
              "  <svg xmlns=\"http://www.w3.org/2000/svg\" height=\"24px\"viewBox=\"0 0 24 24\"\n",
              "       width=\"24px\">\n",
              "    <path d=\"M0 0h24v24H0V0z\" fill=\"none\"/>\n",
              "    <path d=\"M18.56 5.44l.94 2.06.94-2.06 2.06-.94-2.06-.94-.94-2.06-.94 2.06-2.06.94zm-11 1L8.5 8.5l.94-2.06 2.06-.94-2.06-.94L8.5 2.5l-.94 2.06-2.06.94zm10 10l.94 2.06.94-2.06 2.06-.94-2.06-.94-.94-2.06-.94 2.06-2.06.94z\"/><path d=\"M17.41 7.96l-1.37-1.37c-.4-.4-.92-.59-1.43-.59-.52 0-1.04.2-1.43.59L10.3 9.45l-7.72 7.72c-.78.78-.78 2.05 0 2.83L4 21.41c.39.39.9.59 1.41.59.51 0 1.02-.2 1.41-.59l7.78-7.78 2.81-2.81c.8-.78.8-2.07 0-2.86zM5.41 20L4 18.59l7.72-7.72 1.47 1.35L5.41 20z\"/>\n",
              "  </svg>\n",
              "      </button>\n",
              "      \n",
              "  <style>\n",
              "    .colab-df-container {\n",
              "      display:flex;\n",
              "      flex-wrap:wrap;\n",
              "      gap: 12px;\n",
              "    }\n",
              "\n",
              "    .colab-df-convert {\n",
              "      background-color: #E8F0FE;\n",
              "      border: none;\n",
              "      border-radius: 50%;\n",
              "      cursor: pointer;\n",
              "      display: none;\n",
              "      fill: #1967D2;\n",
              "      height: 32px;\n",
              "      padding: 0 0 0 0;\n",
              "      width: 32px;\n",
              "    }\n",
              "\n",
              "    .colab-df-convert:hover {\n",
              "      background-color: #E2EBFA;\n",
              "      box-shadow: 0px 1px 2px rgba(60, 64, 67, 0.3), 0px 1px 3px 1px rgba(60, 64, 67, 0.15);\n",
              "      fill: #174EA6;\n",
              "    }\n",
              "\n",
              "    [theme=dark] .colab-df-convert {\n",
              "      background-color: #3B4455;\n",
              "      fill: #D2E3FC;\n",
              "    }\n",
              "\n",
              "    [theme=dark] .colab-df-convert:hover {\n",
              "      background-color: #434B5C;\n",
              "      box-shadow: 0px 1px 3px 1px rgba(0, 0, 0, 0.15);\n",
              "      filter: drop-shadow(0px 1px 2px rgba(0, 0, 0, 0.3));\n",
              "      fill: #FFFFFF;\n",
              "    }\n",
              "  </style>\n",
              "\n",
              "      <script>\n",
              "        const buttonEl =\n",
              "          document.querySelector('#df-73dc09da-1436-4e7e-a4e5-d646790863a0 button.colab-df-convert');\n",
              "        buttonEl.style.display =\n",
              "          google.colab.kernel.accessAllowed ? 'block' : 'none';\n",
              "\n",
              "        async function convertToInteractive(key) {\n",
              "          const element = document.querySelector('#df-73dc09da-1436-4e7e-a4e5-d646790863a0');\n",
              "          const dataTable =\n",
              "            await google.colab.kernel.invokeFunction('convertToInteractive',\n",
              "                                                     [key], {});\n",
              "          if (!dataTable) return;\n",
              "\n",
              "          const docLinkHtml = 'Like what you see? Visit the ' +\n",
              "            '<a target=\"_blank\" href=https://colab.research.google.com/notebooks/data_table.ipynb>data table notebook</a>'\n",
              "            + ' to learn more about interactive tables.';\n",
              "          element.innerHTML = '';\n",
              "          dataTable['output_type'] = 'display_data';\n",
              "          await google.colab.output.renderOutput(dataTable, element);\n",
              "          const docLink = document.createElement('div');\n",
              "          docLink.innerHTML = docLinkHtml;\n",
              "          element.appendChild(docLink);\n",
              "        }\n",
              "      </script>\n",
              "    </div>\n",
              "  </div>\n",
              "  "
            ]
          },
          "metadata": {},
          "execution_count": 4
        }
      ]
    },
    {
      "cell_type": "markdown",
      "source": [
        "Using *info()* method, get quick description of the data, in particular the total number of rows, each attribute’s type, and the number of non-null values:"
      ],
      "metadata": {
        "id": "0s8t-oJ0IebJ"
      }
    },
    {
      "cell_type": "code",
      "source": [
        "housing.info()"
      ],
      "metadata": {
        "id": "bvIHq9i3HAOR",
        "outputId": "ea48c8ec-93f2-480d-ce3d-d41dd6e2cc4a",
        "colab": {
          "base_uri": "https://localhost:8080/"
        }
      },
      "execution_count": null,
      "outputs": [
        {
          "output_type": "stream",
          "name": "stdout",
          "text": [
            "<class 'pandas.core.frame.DataFrame'>\n",
            "RangeIndex: 20640 entries, 0 to 20639\n",
            "Data columns (total 10 columns):\n",
            " #   Column              Non-Null Count  Dtype  \n",
            "---  ------              --------------  -----  \n",
            " 0   longitude           20640 non-null  float64\n",
            " 1   latitude            20640 non-null  float64\n",
            " 2   housing_median_age  20640 non-null  float64\n",
            " 3   total_rooms         20640 non-null  float64\n",
            " 4   total_bedrooms      20433 non-null  float64\n",
            " 5   population          20640 non-null  float64\n",
            " 6   households          20640 non-null  float64\n",
            " 7   median_income       20640 non-null  float64\n",
            " 8   median_house_value  20640 non-null  float64\n",
            " 9   ocean_proximity     20640 non-null  object \n",
            "dtypes: float64(9), object(1)\n",
            "memory usage: 1.6+ MB\n"
          ]
        }
      ]
    },
    {
      "cell_type": "markdown",
      "source": [
        "Notice the \"total_bedrooms\" attribute is missing 207(20433 out of 20640)."
      ],
      "metadata": {
        "id": "rMbVaPrLLJEK"
      }
    },
    {
      "cell_type": "markdown",
      "source": [
        "Find out what categories exist and how many dsitricts belong to each category by using the \"value_counts()\" method."
      ],
      "metadata": {
        "id": "EO8KxMy9Ollr"
      }
    },
    {
      "cell_type": "code",
      "source": [
        "housing[\"ocean_proximity\"].value_counts()"
      ],
      "metadata": {
        "id": "aAqcj4YBIr4_",
        "outputId": "bda0c0df-09b7-4b95-f52a-01b7c5c2a5cc",
        "colab": {
          "base_uri": "https://localhost:8080/"
        }
      },
      "execution_count": null,
      "outputs": [
        {
          "output_type": "execute_result",
          "data": {
            "text/plain": [
              "<1H OCEAN     9136\n",
              "INLAND        6551\n",
              "NEAR OCEAN    2658\n",
              "NEAR BAY      2290\n",
              "ISLAND           5\n",
              "Name: ocean_proximity, dtype: int64"
            ]
          },
          "metadata": {},
          "execution_count": 6
        }
      ]
    },
    {
      "cell_type": "markdown",
      "source": [
        "Now, plot a histogram to get a feel of the type of data that you are dealing with."
      ],
      "metadata": {
        "id": "9BSysoIAUMbt"
      }
    },
    {
      "cell_type": "code",
      "source": [
        "import matplotlib.pyplot as plt"
      ],
      "metadata": {
        "id": "oL2_OEyERsZS"
      },
      "execution_count": null,
      "outputs": []
    },
    {
      "cell_type": "code",
      "source": [
        "housing.hist(bins = 50, figsize = (12, 8))\n",
        "plt.show()"
      ],
      "metadata": {
        "id": "RSw5lJkIXgjz",
        "outputId": "3eb60845-0815-4d0c-f0d9-567c8b17614c",
        "colab": {
          "base_uri": "https://localhost:8080/",
          "height": 499
        }
      },
      "execution_count": null,
      "outputs": [
        {
          "output_type": "display_data",
          "data": {
            "text/plain": [
              "<Figure size 864x576 with 9 Axes>"
            ],
            "image/png": "[encoded data removed]"
          },
          "metadata": {
            "needs_background": "light"
          }
        }
      ]
    },
    {
      "cell_type": "markdown",
      "source": [
        "#Notice few things...\n",
        "median income attribute is capped at 15(15.0001 fr) and at 0.5(0.4999 fr).\n",
        "\n",
        "Other features are also capped at certain value...\n",
        "\n",
        "these features have very different scales and mostly skewed right..."
      ],
      "metadata": {
        "id": "OX6dnFM9XtxB"
      }
    },
    {
      "cell_type": "markdown",
      "source": [
        "# **Create a test set**\n",
        "\n",
        "Typically 20% (leff if data is huge) is put away for test set..."
      ],
      "metadata": {
        "id": "tSWrYTuHY4-r"
      }
    },
    {
      "cell_type": "code",
      "source": [
        "import numpy as np\n",
        "\n",
        "def shuffle_and_split_data(data, test_ratio):\n",
        "    shuffled_indices = np.random.permutation(len(data))\n",
        "    test_set_size = int(len(data) * test_ratio)\n",
        "    test_indices = shuffled_indices[:test_set_size]\n",
        "    train_indices = shuffled_indices[test_set_size:]\n",
        "    return data.iloc[train_indices], data.iloc[test_indices]"
      ],
      "metadata": {
        "id": "RbhLZCM0Xq-Y"
      },
      "execution_count": null,
      "outputs": []
    },
    {
      "cell_type": "markdown",
      "source": [
        "You can utilize this function like this..."
      ],
      "metadata": {
        "id": "U-hDtScJZzkZ"
      }
    },
    {
      "cell_type": "code",
      "source": [
        "train_set, test_set = shuffle_and_split_data(housing, 0.2)\n",
        "len(train_set)"
      ],
      "metadata": {
        "id": "Ebwp5UQkZfK5",
        "outputId": "fb662c98-37e8-4a8f-b85b-2749bd3dd16b",
        "colab": {
          "base_uri": "https://localhost:8080/"
        }
      },
      "execution_count": null,
      "outputs": [
        {
          "output_type": "execute_result",
          "data": {
            "text/plain": [
              "16512"
            ]
          },
          "metadata": {},
          "execution_count": 10
        }
      ]
    },
    {
      "cell_type": "code",
      "source": [
        "len(test_set)"
      ],
      "metadata": {
        "id": "AX1fybBoaCE2",
        "outputId": "29cbf247-2740-4b1d-9371-8e1f8249ea6e",
        "colab": {
          "base_uri": "https://localhost:8080/"
        }
      },
      "execution_count": null,
      "outputs": [
        {
          "output_type": "execute_result",
          "data": {
            "text/plain": [
              "4128"
            ]
          },
          "metadata": {},
          "execution_count": 11
        }
      ]
    },
    {
      "cell_type": "markdown",
      "source": [
        "This works...\n",
        "# NOT!\n",
        "If run again, it will generate a **different test set**!\n",
        "\n",
        "That will cause the algo to see the whole dataset, which makes test set meaningless.\n",
        "\n",
        "One solution is to save the test set on the first run and then load it in subsequent\n",
        "runs."
      ],
      "metadata": {
        "id": "piOIGSh1aMFa"
      }
    },
    {
      "cell_type": "markdown",
      "source": [
        "Another option is to set the random number generator’s seed (e.g., with\n",
        "np.random.seed(11)) before calling np.random.permutation() so that it always\n",
        "generates the same shuffled indices.\n"
      ],
      "metadata": {
        "id": "LsbVgTKja41r"
      }
    },
    {
      "cell_type": "markdown",
      "source": [
        "**However, both these solutions will break the next time you fetch an updated dataset.**\n",
        "\n",
        "\n",
        "> Common solution is to use each instance's identifier to decide whether or not it should go in the test set.\n",
        "\n"
      ],
      "metadata": {
        "id": "MQBTWdPQbC9z"
      }
    },
    {
      "cell_type": "markdown",
      "source": [
        "For example, compute a hash of each instance's identifier and put that instance in the test set if the hash is lower than or equal to 20% of the maximum hash value.\n",
        "\n",
        "This ensures that the\n",
        "test set will remain consistent across multiple runs, even if you refresh the dataset."
      ],
      "metadata": {
        "id": "I9Q82_pt7Hic"
      }
    },
    {
      "cell_type": "markdown",
      "source": [
        "# Here is a possible implementation:"
      ],
      "metadata": {
        "id": "THas5o4gOLw-"
      }
    },
    {
      "cell_type": "code",
      "source": [
        "from zlib import crc32\n",
        "\n",
        "def is_id_in_test_set(identifier, test_ratio):\n",
        "  return crc32(np.int64(identifier)) < test_ratio * 2 ** 32\n",
        "\n",
        "def split_data_with_id_hash(data, test_ratio, id_column):\n",
        "  ids = data[id_column]\n",
        "  in_test_set = ids.apply(lambda id_: is_id_in_test_set(id_, test_ratio))\n",
        "  return data.loc[~in_test_set], data.loc[in_test_set]"
      ],
      "metadata": {
        "id": "ASy8-3e3aHe5"
      },
      "execution_count": null,
      "outputs": []
    },
    {
      "cell_type": "markdown",
      "source": [
        "Since the housing dataset does not have identifier column... use the row index as the ID."
      ],
      "metadata": {
        "id": "Ao3EILpGnaj8"
      }
    },
    {
      "cell_type": "code",
      "source": [
        "housing_with_id = housing.reset_index() #Adds an 'index' column\n",
        "train_set, test_set = split_data_with_id_hash(housing_with_id, 0.2, \"index\")"
      ],
      "metadata": {
        "id": "xacGnNZVnmnh"
      },
      "execution_count": null,
      "outputs": []
    },
    {
      "cell_type": "markdown",
      "source": [
        "Using the index as a unique identifier warns that the index must be ordered correctly and no indexes can be deleted.\n",
        "\n",
        "If not possible...\n",
        "\n",
        "> Use the latitude and longitude as ID."
      ],
      "metadata": {
        "id": "GfTHtGepoRqg"
      }
    },
    {
      "cell_type": "code",
      "source": [
        "housing_with_id[\"id\"] = housing[\"longitude\"] * 1000 + housing[\"latitude\"]\n",
        "train_set, test_set = split_data_with_id_hash(housing_with_id, 0.2, \"id\")"
      ],
      "metadata": {
        "id": "NrO_07lkn8ha"
      },
      "execution_count": null,
      "outputs": []
    },
    {
      "cell_type": "markdown",
      "source": [
        "**Scikit-Learn provides a few functions to split datasets into multiple subsets in various ways.**\n",
        "\n",
        "> train_test_split() == shuffle_and_split_data() function\n",
        "\n",
        "There is also a **random_state** parameter that allows random generator seed.\n",
        "\n",
        "Second, you can pass it multiple datasets with\n",
        "an identical number of rows, and it will split them on the same indices (this is very useful, for example, if you have a separate DataFrame for labels)"
      ],
      "metadata": {
        "id": "uCL4kR0Nq9iL"
      }
    },
    {
      "cell_type": "code",
      "source": [
        "from sklearn.model_selection import train_test_split\n",
        "\n",
        "train_set, test_set = train_test_split(housing, test_size=0.2, random_state=42)"
      ],
      "metadata": {
        "id": "nN2HatgCpKV6"
      },
      "execution_count": null,
      "outputs": []
    },
    {
      "cell_type": "markdown",
      "source": [
        "So far, these are purely a random sampling methods.\n",
        "> This is fine when the dataset is large enough (especially relative to the number of attributes)\n",
        "\n",
        "but if it\n",
        "is not, you run the risk of significant sampling bias."
      ],
      "metadata": {
        "id": "r6Ue2XCNartY"
      }
    },
    {
      "cell_type": "markdown",
      "source": [
        "# Do stratified sampling based on the income category"
      ],
      "metadata": {
        "id": "miystXPSbPcQ"
      }
    },
    {
      "cell_type": "code",
      "source": [
        "housing[\"income_cat\"] = pd.cut(housing[\"median_income\"], bins=[0., 1.5, 3.0, 4.5, 6., np.inf], labels=[1, 2, 3, 4, 5])"
      ],
      "metadata": {
        "id": "_HvjRF0xumys"
      },
      "execution_count": null,
      "outputs": []
    },
    {
      "cell_type": "code",
      "source": [
        "housing[\"income_cat\"].value_counts().sort_index().plot.bar(rot=0, grid=True)\n",
        "plt.xlabel(\"Income category\")\n",
        "plt.ylabel(\"Number of districts\")\n",
        "plt.show()"
      ],
      "metadata": {
        "id": "L6uverWI4rti",
        "outputId": "a146de5c-8550-49f6-9c4c-4aa7ea033425",
        "colab": {
          "base_uri": "https://localhost:8080/",
          "height": 279
        }
      },
      "execution_count": null,
      "outputs": [
        {
          "output_type": "display_data",
          "data": {
            "text/plain": [
              "<Figure size 432x288 with 1 Axes>"
            ],
            "image/png": "[encoded data removed]"
          },
          "metadata": {
            "needs_background": "light"
          }
        }
      ]
    },
    {
      "cell_type": "markdown",
      "source": [
        "the split() method yields the training and test indices, not the\n",
        "data itself. Having multiple splits can be useful if you want to better estimate the\n",
        "performance of your model"
      ],
      "metadata": {
        "id": "dxwPnEv-7JNb"
      }
    },
    {
      "cell_type": "code",
      "source": [
        "from sklearn.model_selection import StratifiedShuffleSplit\n",
        "splitter = StratifiedShuffleSplit(n_splits=10, test_size=0.2, random_state=42)\n",
        "strat_splits = []\n",
        "for train_index, test_index in splitter.split(housing, housing[\"income_cat\"]):\n",
        "  strat_train_set_n = housing.iloc[train_index]\n",
        "  strat_test_set_n = housing.iloc[test_index]\n",
        "  strat_splits.append([strat_train_set_n, strat_test_set_n])"
      ],
      "metadata": {
        "id": "zLI0RLRP4zM5"
      },
      "execution_count": null,
      "outputs": []
    },
    {
      "cell_type": "code",
      "source": [
        "# Getting a single split using train_test_split() func\n",
        "\n",
        "strat_train_set, strat_test_set = train_test_split(housing, test_size=0.2, stratify=housing[\"income_cat\"], random_state=42)"
      ],
      "metadata": {
        "id": "bGYRD4n3OsOp"
      },
      "execution_count": null,
      "outputs": []
    },
    {
      "cell_type": "code",
      "source": [
        "strat_test_set[\"income_cat\"].value_counts()/len(strat_test_set)"
      ],
      "metadata": {
        "id": "HG19clY6PTmy",
        "outputId": "a13866da-c69b-4653-9373-8cca21c8222c",
        "colab": {
          "base_uri": "https://localhost:8080/"
        }
      },
      "execution_count": null,
      "outputs": [
        {
          "output_type": "execute_result",
          "data": {
            "text/plain": [
              "3    0.350533\n",
              "2    0.318798\n",
              "4    0.176357\n",
              "5    0.114341\n",
              "1    0.039971\n",
              "Name: income_cat, dtype: float64"
            ]
          },
          "metadata": {},
          "execution_count": 22
        }
      ]
    },
    {
      "cell_type": "markdown",
      "source": [
        "The test set generated using stratified sampling has\n",
        "income category proportions almost identical to those in the full dataset, whereas the\n",
        "test set generated using purely random sampling is skewed."
      ],
      "metadata": {
        "id": "GWGORexZQHH8"
      }
    },
    {
      "cell_type": "markdown",
      "source": [
        "![stratvsrand.PNG](data:image/png;base64,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)"
      ],
      "metadata": {
        "id": "3qOgXP6rQOSM"
      }
    },
    {
      "cell_type": "markdown",
      "source": [
        "You won’t use the income_cat column again, so you might as well drop it, reverting\n",
        "the data back to its original state:"
      ],
      "metadata": {
        "id": "JR1Xcou5QhHe"
      }
    },
    {
      "cell_type": "code",
      "source": [
        "for set_ in (strat_train_set, strat_test_set):\n",
        "  set_.drop(\"income_cat\", axis=1, inplace=True)"
      ],
      "metadata": {
        "id": "dS_RgrcSPpJm"
      },
      "execution_count": null,
      "outputs": []
    },
    {
      "cell_type": "markdown",
      "source": [
        "# Explore and Visualize the data."
      ],
      "metadata": {
        "id": "ERk2QanXgEPB"
      }
    },
    {
      "cell_type": "markdown",
      "source": [
        "First, make sure you have put the test set aside and you are only exploring the training\n",
        "set. Also, if the training set is very large, you may want to sample an exploration set, to make manipulations easy and fast during the exploration phase.\n",
        "\n",
        "In this case,\n",
        "the training set is quite small."
      ],
      "metadata": {
        "id": "WKxgXM4MgQP6"
      }
    },
    {
      "cell_type": "code",
      "source": [
        "# Make a copy of the original.\n",
        "\n",
        "housing = strat_train.copy()\n",
        "\n",
        "# Scatterplot\n",
        "\n",
        "housing.plot(kind=\"scatter\", x=\"longitude\", y=\"latitude\", grid=True)\n",
        "plt.show()"
      ],
      "metadata": {
        "id": "lHDChUdfQxU3"
      },
      "execution_count": null,
      "outputs": []
    },
    {
      "cell_type": "markdown",
      "source": [
        "Improve the visualoization by tweaking alpha."
      ],
      "metadata": {
        "id": "re-VLF7Iinee"
      }
    },
    {
      "cell_type": "code",
      "source": [],
      "metadata": {
        "id": "B6qwrwtKiRHw"
      },
      "execution_count": null,
      "outputs": []
    }
  ]
}